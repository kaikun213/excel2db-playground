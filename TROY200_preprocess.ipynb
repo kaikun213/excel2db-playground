{
 "cells": [
  {
   "cell_type": "markdown",
   "metadata": {},
   "source": [
    "# Excel2DB Playground\n",
    "\n",
    "Any tools and scripts used in the context of transforming excel data to populate a database."
   ]
  },
  {
   "cell_type": "markdown",
   "metadata": {},
   "source": [
    "## Troy200 Dataset transformation for Fonduer\n",
    "\n",
    "The dataset [TROY200](https://data.mendeley.com/datasets/ydcr7mcrtp/6) is transformed for easier parsing. 2 steps:\n",
    "\n",
    "* 1) Groundtruth data is in 200 separate files, we transform it into one normalized CSV file with the columns: filename, data, col1, ..., colX, row1, ..., rowY. Where X is the maximum number of column-headers in all the 200 ground truth files, and Y the maximum number of row-headers in all files.\n",
    "\n",
    "* 2) The data tables are in one single spreadsheet with 200 worksheets. We transform this sheet to save 200 separate spreadsheet files with the name of the worksheet as filename. This is handy to transform them to separate HTML files.\n"
   ]
  },
  {
   "cell_type": "code",
   "execution_count": null,
   "metadata": {},
   "outputs": [],
   "source": [
    "import os\n",
    "import pandas as pd"
   ]
  },
  {
   "cell_type": "markdown",
   "metadata": {},
   "source": [
    "### 1.) Transform Groundtruth Data"
   ]
  },
  {
   "cell_type": "code",
   "execution_count": null,
   "metadata": {},
   "outputs": [],
   "source": [
    "# Ground truth data\n",
    "gt_path = f\"{os.getcwd()}/data/TROY200/original_format/gt\"\n",
    "gt_out_path = f\"{os.getcwd()}/data/TROY200\"\n",
    "\n",
    "files = os.listdir(gt_path)\n",
    "files_xlsx = [f for f in files if f[-4:] == 'xlsx']\n",
    "\n",
    "def excel_df(f):\n",
    "    df = pd.read_excel(f\"{gt_path}/{f}\")\n",
    "    df['Document'] = f\n",
    "    return df\n",
    "\n",
    "# load all files to data frames\n",
    "gt_dfs = [excel_df(f) for f in files_xlsx]\n",
    "# concat to a single DF to export as CSV\n",
    "csv_df = pd.concat(gt_dfs)\n",
    "\n",
    "csv_df.to_csv(f\"{gt_out_path}/troy200_gold.csv\", index=False)"
   ]
  },
  {
   "cell_type": "markdown",
   "metadata": {},
   "source": [
    "### 2.) Transform Data Tables"
   ]
  },
  {
   "cell_type": "code",
   "execution_count": null,
   "metadata": {},
   "outputs": [],
   "source": [
    "from openpyxl import load_workbook\n",
    "from openpyxl.cell.cell import Cell\n",
    "from openpyxl.styles import Border, Side, PatternFill, Font, GradientFill, Alignment\n",
    "\n",
    "# Data tables per worksheet in the spreadsheet\n",
    "data_path = f\"{os.getcwd()}/data/TROY200/tables-annotated.xlsx\"\n",
    "data_out_path = f\"{os.getcwd()}/data/TROY200/tables\"\n",
    "\n",
    "# Style the worksheet by Label\n",
    "df = pd.read_excel(data_path, sheet_name=\"Range_Annotations_Data\")\n",
    "styles = {\n",
    "    \"Table\": PatternFill(\"solid\", fgColor=\"FFFFFE\"),\n",
    "    \"Data\": Font(color=\"000001\"),\n",
    "    \"Header\": Font(color=\"000002\"),\n",
    "    \"MetaTitle\": Font(color=\"000003\"),\n",
    "    \"Notes\": Font(color=\"000004\"),\n",
    "}\n",
    "\n",
    "def set_style(ws, cell_range, style):\n",
    "    rows = ws[cell_range]\n",
    "    for row in ([rows] if isinstance(rows, Cell) else rows):\n",
    "        for cell in ([row] if isinstance(row, Cell) else row):\n",
    "            if (isinstance(style, PatternFill)):\n",
    "                cell.fill = style\n",
    "            else:\n",
    "                cell.font = style\n",
    "\n",
    "\n",
    "# Iterate worksheets and save as separate xlsx files\n",
    "wb = load_workbook(filename = data_path)\n",
    "sheets = wb.sheetnames\n",
    "\n",
    "for s in sheets:\n",
    "    wb_copy = load_workbook(filename = data_path)\n",
    "    df_sheet = df[df[\"Sheet.Name\"] == s]\n",
    "\n",
    "    # Apply styles\n",
    "    sheet = wb_copy[s]\n",
    "    for i, row in df_sheet.iterrows():\n",
    "        style = styles[row[\"Annotation.Label\"]]\n",
    "        cell_range = row[\"Annotation.Range\"]\n",
    "        set_style(sheet, cell_range, style)\n",
    "    \n",
    "    # Remove other worksheets\n",
    "    for s2 in sheets:\n",
    "        if s2 != s:\n",
    "            sheet2 = wb_copy[s2]\n",
    "            wb_copy.remove_sheet(sheet2)\n",
    "            \n",
    "    wb_copy.save(f\"{data_out_path}/{s}.xlsx\")"
   ]
  },
  {
   "cell_type": "markdown",
   "metadata": {},
   "source": [
    "## Playground\n",
    "\n",
    "Experimenting"
   ]
  },
  {
   "cell_type": "code",
   "execution_count": null,
   "metadata": {},
   "outputs": [],
   "source": []
  }
 ],
 "metadata": {
  "kernelspec": {
   "display_name": "Python 3",
   "language": "python",
   "name": "python3"
  },
  "language_info": {
   "codemirror_mode": {
    "name": "ipython",
    "version": 3
   },
   "file_extension": ".py",
   "mimetype": "text/x-python",
   "name": "python",
   "nbconvert_exporter": "python",
   "pygments_lexer": "ipython3",
   "version": "3.6.9"
  }
 },
 "nbformat": 4,
 "nbformat_minor": 2
}
